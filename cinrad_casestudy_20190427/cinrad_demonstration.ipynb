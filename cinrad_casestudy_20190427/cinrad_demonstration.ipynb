{
 "cells": [
  {
   "cell_type": "code",
   "execution_count": 1,
   "metadata": {},
   "outputs": [
    {
     "name": "stdout",
     "output_type": "stream",
     "text": [
      "\n",
      "## You are using the Python ARM Radar Toolkit (Py-ART), an open source\n",
      "## library for working with weather radar data. Py-ART is partly\n",
      "## supported by the U.S. Department of Energy as part of the Atmospheric\n",
      "## Radiation Measurement (ARM) Climate Research Facility, an Office of\n",
      "## Science user facility.\n",
      "##\n",
      "## If you use this software to prepare a publication, please cite:\n",
      "##\n",
      "##     JJ Helmus and SM Collis, JORS 2016, doi: 10.5334/jors.119\n",
      "\n"
     ]
    },
    {
     "name": "stderr",
     "output_type": "stream",
     "text": [
      "/home/meso/miniconda3/envs/radar-dev/lib/python3.6/site-packages/pyart/graph/cm.py:104: FutureWarning: elementwise comparison failed; returning scalar instead, but in the future will perform elementwise comparison\n",
      "  if 'red' in spec:\n",
      "/home/meso/miniconda3/envs/radar-dev/lib/python3.6/site-packages/pyart/graph/cm_colorblind.py:32: FutureWarning: elementwise comparison failed; returning scalar instead, but in the future will perform elementwise comparison\n",
      "  if 'red' in spec:\n"
     ]
    }
   ],
   "source": [
    "\"\"\"\n",
    "Anconda (Python 3.7) configuration\n",
    "- install anaconda 3.7 on your system\n",
    "- open terminal with anaconda active\n",
    "- create new python environment for cinrad 'conda create -n myenv python=3.7'\n",
    "- activate the cinrad environment (this will need to be done everytime you reopen the terminal or change environment)\n",
    "- install pyart, cartopy and numpy ' conda install -c conda-forge cartopy numpy arm_pyart'\n",
    "\n",
    "to run the code either use\n",
    "- use your new cinrad environment from pycharm - https://medium.com/infinity-aka-aseem/how-to-setup-pycharm-with-an-anaconda-virtual-environment-already-created-fb927bacbe61\n",
    "- use the jupyter notebooks edittor that is included in anaconda - type into active terminal 'jupyter notebook'\n",
    "\n",
    "# example from Nanjing - https://github.com/zxdawn/pyart/blob/CNRAD/notebooks/Reading_S_band_radar_en.ipynb\n",
    "Done!\n",
    "\"\"\"\n",
    "\n",
    "\n",
    "#system libraries\n",
    "import glob\n",
    "import os\n",
    "\n",
    "#central libraries\n",
    "import matplotlib.pyplot as plt\n",
    "import numpy as np\n",
    "import cartopy.crs as ccrs # A toolkit for map projections\n",
    "import cartopy.io.img_tiles as img_tiles \n",
    "import pandas\n",
    "\n",
    "#pyart libraries\n",
    "import pyart\n",
    "import sband_archive"
   ]
  },
  {
   "cell_type": "code",
   "execution_count": 2,
   "metadata": {},
   "outputs": [],
   "source": [
    "def read_csv(csv_ffn, header_line):\n",
    "    \"\"\"\n",
    "    CSV reader used for the radar locations file (comma delimited)\n",
    "    \n",
    "    Parameters:\n",
    "    ===========\n",
    "        csv_ffn: str\n",
    "            Full filename to csv file\n",
    "            \n",
    "        header_line: int or None\n",
    "            to use first line of csv as header = 0, use None to use column index\n",
    "            \n",
    "    Returns:\n",
    "    ========\n",
    "        as_dict: dict\n",
    "            csv columns are dictionary\n",
    "    \n",
    "    \"\"\"\n",
    "    df = pandas.read_csv(csv_ffn, header=header_line)\n",
    "    as_dict = df.to_dict(orient='list')\n",
    "    return as_dict"
   ]
  },
  {
   "cell_type": "code",
   "execution_count": 3,
   "metadata": {},
   "outputs": [],
   "source": [
    "#configuration block\n",
    "\n",
    "#path to data\n",
    "source_path = '/home/meso/dev/cinrad_casestudy/data_yibin' #these are *.bin files\n",
    "image_path  = '/home/meso/dev/cinrad_casestudy/images_yibin'\n",
    "\n",
    "#list of sweep indicies which contain reflectivity (note that sweeps 1 and 3 only contain radial velocity)\n",
    "valid_sweep_list = [0,2,4,5,6,7,8,9,10]\n",
    "#name of reflectivity field\n",
    "plot_field  = 'reflectivity'\n",
    "#sweep index for plotting\n",
    "plot_sweep  = 2\n",
    "\n",
    "# colormap types and ranges\n",
    "if plot_field == 'reflectivity':\n",
    "    vmin = -8\n",
    "    vmax = 64\n",
    "    cmap = 'pyart_HomeyerRainbow'\n",
    "if plot_field == 'velocity':\n",
    "    vmin = -15\n",
    "    vmax = 15\n",
    "    cmap = 'BuDRd18'\n",
    "\n",
    "#setup map extend and lat/lon lines\n",
    "map_range  = 1.6 #degrees\n",
    "line_space = 0.2 #degrees\n",
    "\n",
    "#map panel cuts\n",
    "map_panel_axes = [0.05, 0.05, .4, .80]\n",
    "x_cut_panel_axes = [0.55, 0.10, .4, .25]\n",
    "y_cut_panel_axes = [0.55, 0.50, .4, .25]\n",
    "\n",
    "#RHI slice azimuth\n",
    "rhi1_azi = 92\n",
    "rhi2_azi = 180\n",
    "\n",
    "#read site file to dictionary\n",
    "site_fn = 'radar_info.txt'\n",
    "site_dict = read_csv(site_fn, 0)\n",
    "\n",
    "#read file list from data directory\n",
    "data_ffn_list = sorted(glob.glob(source_path + '/*.bin'))"
   ]
  },
  {
   "cell_type": "code",
   "execution_count": 4,
   "metadata": {},
   "outputs": [],
   "source": [
    "def get_radar_location(data_ffn):\n",
    "    \"\"\"\n",
    "    Find site lat lon using radar_info.txt and filename\n",
    "    \"\"\"\n",
    "    radar_fn  = os.path.basename(data_ffn)\n",
    "    site_id   = radar_fn[9:14]\n",
    "    id_list   = site_dict['ID']\n",
    "    lat_list  = site_dict['Latitude']\n",
    "    lon_list  = site_dict['Longitude']\n",
    "    elv_list  = site_dict['Elevation']\n",
    "    idx = id_list.index(site_id)\n",
    "    return lat_list[idx], lon_list[idx], elv_list[idx]\n",
    "\n",
    "def plot_marker(city_lon, city_lat, city_name):\n",
    "\n",
    "    plt.plot(city_lon, city_lat,\n",
    "            'wo',\n",
    "            markersize=10,\n",
    "            markeredgecolor='k',\n",
    "            transform=ccrs.Geodetic())\n",
    "    \n",
    "    plt.text(city_lon-0.02, city_lat+0.02, city_name,\n",
    "         horizontalalignment='right',\n",
    "         size=18, color='k',weight=\"bold\",\n",
    "         transform=ccrs.Geodetic())\n",
    "\n",
    "def plot_data(data_ffn, output_filename):\n",
    "    \n",
    "    #find radar location\n",
    "    radar_lat, radar_lon, radar_alt = get_radar_location(data_ffn)\n",
    "    #setup plotting configuration\n",
    "    min_lat    = radar_lat - map_range\n",
    "    max_lat    = radar_lat + map_range\n",
    "    min_lon    = radar_lon - map_range\n",
    "    max_lon    = radar_lon + map_range\n",
    "    lat_lines  = np.arange(min_lat, max_lat+line_space, line_space)\n",
    "    lon_lines  = np.arange(min_lon, max_lon+line_space, line_space)\n",
    "    \n",
    "    \n",
    "    #read data\n",
    "    radar = sband_archive.read_sband_archive(data_ffn, station=(radar_lat, radar_lon, radar_alt))\n",
    "    #extract sweeps which have reflectivity\n",
    "    radar = radar.extract_sweeps(valid_sweep_list)\n",
    "    #create rhi slices\n",
    "    xsect = pyart.util.cross_section_ppi(radar, [rhi1_azi, rhi2_azi])\n",
    "    #create pyart display object for plotting\n",
    "    ppi_display = pyart.graph.RadarMapDisplay(radar)\n",
    "    rhi_display = pyart.graph.RadarDisplay(xsect)\n",
    "    \n",
    "    ############## Panel 1: PPI plot\n",
    "    #generate request for mapping tiles\n",
    "    stamen_terrain = img_tiles.Stamen('terrain-background')\n",
    "    #create axis\n",
    "    ax1 = fig.add_axes(map_panel_axes, projection=stamen_terrain.crs)\n",
    "    ax1.set_extent([min_lon,max_lon,min_lat,max_lat])\n",
    "    #add stamen tiles\n",
    "    ax1.add_image(stamen_terrain, 8)\n",
    "    #plot ppi\n",
    "    ppi_display.plot_ppi_map(plot_field, plot_sweep,\n",
    "                            projection=stamen_terrain.crs, resolution='10m',\n",
    "                            vmin=vmin, vmax=vmax, \n",
    "                            max_lat = max_lat, min_lat = min_lat, min_lon = min_lon, max_lon = max_lon,\n",
    "                            cmap = cmap)\n",
    "    \n",
    "    #add grid lines and set style\n",
    "    gl = ppi_display.ax.gridlines(draw_labels=True,\n",
    "                                  linewidth=2, color='gray', alpha=0.9,\n",
    "                                  linestyle='--')\n",
    "    #set plot x and y label styles and visibility\n",
    "    gl.xlabel_style = {'size': 20}\n",
    "    gl.ylabel_style = {'size': 20}\n",
    "    gl.xlabels_top = False\n",
    "    gl.ylabels_right = False\n",
    "    #plot RHI lines\n",
    "    ppi_display.plot_line_xy([0,100000],[0,0],linestyle='-',color='r')\n",
    "    ppi_display.plot_line_xy([0,0],[0,-100000],linestyle='-',color='b')\n",
    "    \n",
    "    #add markers ### EDIT THIS AS NEEDED\n",
    "    plot_marker(105.442, 28.871, 'Luzhou')\n",
    "    plot_marker(106.566, 29.558, 'Chongqing')\n",
    "    \n",
    "    ################### Panel 2: longitude slice\n",
    "    ax2 = fig.add_axes(x_cut_panel_axes)\n",
    "    rhi_display.plot_rhi(plot_field, 0,\n",
    "                             vmin=vmin, vmax=vmax,\n",
    "                             cmap=cmap, title='90 Deg. RHI (red)')\n",
    "    rhi_display.set_limits(ylim=[0, 10], xlim=(0, 100)) #height and range limits\n",
    "    rhi_display.plot_grid_lines(ax=ax2, col='k', ls=':') #height and range limits\n",
    "\n",
    "    ################### Panel 2: longitude slice\n",
    "    ax3 = fig.add_axes(y_cut_panel_axes)\n",
    "    rhi_display.plot_rhi(plot_field, 1,\n",
    "                             vmin=vmin, vmax=vmax,\n",
    "                             cmap=cmap, title='180 Deg. RHI (blue)')\n",
    "    rhi_display.set_limits(ylim=[0, 10], xlim=(0, 100))\n",
    "    rhi_display.plot_grid_lines(ax=ax3, col='k', ls=':')\n",
    "    \n",
    "    #save figure\n",
    "    if output_filename is not None:\n",
    "        plt.savefig(output_filename, dpi=50)\n",
    "        plt.close()"
   ]
  },
  {
   "cell_type": "code",
   "execution_count": 5,
   "metadata": {},
   "outputs": [
    {
     "data": {
      "text/plain": [
       "(28.8197, 104.5778, 517.0)"
      ]
     },
     "execution_count": 5,
     "metadata": {},
     "output_type": "execute_result"
    }
   ],
   "source": [
    "get_radar_location(data_ffn_list[0])"
   ]
  },
  {
   "cell_type": "code",
   "execution_count": 7,
   "metadata": {},
   "outputs": [
    {
     "ename": "IndexError",
     "evalue": "index 0 is out of bounds for axis 0 with size 0",
     "output_type": "error",
     "traceback": [
      "\u001b[0;31m---------------------------------------------------------------------------\u001b[0m",
      "\u001b[0;31mIndexError\u001b[0m                                Traceback (most recent call last)",
      "\u001b[0;32m<ipython-input-7-335e5c86adaa>\u001b[0m in \u001b[0;36m<module>\u001b[0;34m\u001b[0m\n\u001b[1;32m      7\u001b[0m \u001b[0mtest_data_ffn\u001b[0m \u001b[0;34m=\u001b[0m \u001b[0mdata_ffn_list\u001b[0m\u001b[0;34m[\u001b[0m\u001b[0;36m23\u001b[0m\u001b[0;34m]\u001b[0m\u001b[0;34m\u001b[0m\u001b[0;34m\u001b[0m\u001b[0m\n\u001b[1;32m      8\u001b[0m \u001b[0;31m#plot data file\u001b[0m\u001b[0;34m\u001b[0m\u001b[0;34m\u001b[0m\u001b[0;34m\u001b[0m\u001b[0m\n\u001b[0;32m----> 9\u001b[0;31m \u001b[0mplot_data\u001b[0m\u001b[0;34m(\u001b[0m\u001b[0mtest_data_ffn\u001b[0m\u001b[0;34m,\u001b[0m \u001b[0;32mNone\u001b[0m\u001b[0;34m)\u001b[0m\u001b[0;34m\u001b[0m\u001b[0;34m\u001b[0m\u001b[0m\n\u001b[0m",
      "\u001b[0;32m<ipython-input-4-f67ddbfeb449>\u001b[0m in \u001b[0;36mplot_data\u001b[0;34m(data_ffn, output_filename)\u001b[0m\n\u001b[1;32m     39\u001b[0m \u001b[0;34m\u001b[0m\u001b[0m\n\u001b[1;32m     40\u001b[0m     \u001b[0;31m#read data\u001b[0m\u001b[0;34m\u001b[0m\u001b[0;34m\u001b[0m\u001b[0;34m\u001b[0m\u001b[0m\n\u001b[0;32m---> 41\u001b[0;31m     \u001b[0mradar\u001b[0m \u001b[0;34m=\u001b[0m \u001b[0msband_archive\u001b[0m\u001b[0;34m.\u001b[0m\u001b[0mread_sband_archive\u001b[0m\u001b[0;34m(\u001b[0m\u001b[0mdata_ffn\u001b[0m\u001b[0;34m,\u001b[0m \u001b[0mstation\u001b[0m\u001b[0;34m=\u001b[0m\u001b[0;34m(\u001b[0m\u001b[0mradar_lat\u001b[0m\u001b[0;34m,\u001b[0m \u001b[0mradar_lon\u001b[0m\u001b[0;34m,\u001b[0m \u001b[0mradar_alt\u001b[0m\u001b[0;34m)\u001b[0m\u001b[0;34m)\u001b[0m\u001b[0;34m\u001b[0m\u001b[0;34m\u001b[0m\u001b[0m\n\u001b[0m\u001b[1;32m     42\u001b[0m     \u001b[0;31m#extract sweeps which have reflectivity\u001b[0m\u001b[0;34m\u001b[0m\u001b[0;34m\u001b[0m\u001b[0;34m\u001b[0m\u001b[0m\n\u001b[1;32m     43\u001b[0m     \u001b[0mradar\u001b[0m \u001b[0;34m=\u001b[0m \u001b[0mradar\u001b[0m\u001b[0;34m.\u001b[0m\u001b[0mextract_sweeps\u001b[0m\u001b[0;34m(\u001b[0m\u001b[0mvalid_sweep_list\u001b[0m\u001b[0;34m)\u001b[0m\u001b[0;34m\u001b[0m\u001b[0;34m\u001b[0m\u001b[0m\n",
      "\u001b[0;32m~/dev/cinrad_casestudy/sband_archive.py\u001b[0m in \u001b[0;36mread_sband_archive\u001b[0;34m(filename, field_names, additional_metadata, file_field_names, exclude_fields, delay_field_loading, station, scans, linear_interp, **kwargs)\u001b[0m\n\u001b[1;32m     85\u001b[0m     \u001b[0;31m# open the file and retrieve scan information\u001b[0m\u001b[0;34m\u001b[0m\u001b[0;34m\u001b[0m\u001b[0;34m\u001b[0m\u001b[0m\n\u001b[1;32m     86\u001b[0m     \u001b[0mnfile\u001b[0m \u001b[0;34m=\u001b[0m \u001b[0mSbandRadarFile\u001b[0m\u001b[0;34m(\u001b[0m\u001b[0mprepare_for_read\u001b[0m\u001b[0;34m(\u001b[0m\u001b[0mfilename\u001b[0m\u001b[0;34m)\u001b[0m\u001b[0;34m)\u001b[0m\u001b[0;34m\u001b[0m\u001b[0;34m\u001b[0m\u001b[0m\n\u001b[0;32m---> 87\u001b[0;31m     \u001b[0mscan_info\u001b[0m \u001b[0;34m=\u001b[0m \u001b[0mnfile\u001b[0m\u001b[0;34m.\u001b[0m\u001b[0mscan_info\u001b[0m\u001b[0;34m(\u001b[0m\u001b[0mscans\u001b[0m\u001b[0;34m)\u001b[0m\u001b[0;34m\u001b[0m\u001b[0;34m\u001b[0m\u001b[0m\n\u001b[0m\u001b[1;32m     88\u001b[0m \u001b[0;34m\u001b[0m\u001b[0m\n\u001b[1;32m     89\u001b[0m     \u001b[0;31m# time\u001b[0m\u001b[0;34m\u001b[0m\u001b[0;34m\u001b[0m\u001b[0;34m\u001b[0m\u001b[0m\n",
      "\u001b[0;32m~/dev/cinrad_casestudy/sband_radar.py\u001b[0m in \u001b[0;36mscan_info\u001b[0;34m(self, scans)\u001b[0m\n\u001b[1;32m    107\u001b[0m             \u001b[0mnrays\u001b[0m \u001b[0;34m=\u001b[0m \u001b[0mself\u001b[0m\u001b[0;34m.\u001b[0m\u001b[0mget_nrays\u001b[0m\u001b[0;34m(\u001b[0m\u001b[0mscan\u001b[0m\u001b[0;34m)\u001b[0m\u001b[0;34m\u001b[0m\u001b[0;34m\u001b[0m\u001b[0m\n\u001b[1;32m    108\u001b[0m \u001b[0;34m\u001b[0m\u001b[0m\n\u001b[0;32m--> 109\u001b[0;31m             \u001b[0mmsg_number\u001b[0m \u001b[0;34m=\u001b[0m \u001b[0mself\u001b[0m\u001b[0;34m.\u001b[0m\u001b[0mscan_msgs\u001b[0m\u001b[0;34m[\u001b[0m\u001b[0mscan\u001b[0m\u001b[0;34m]\u001b[0m\u001b[0;34m[\u001b[0m\u001b[0;36m0\u001b[0m\u001b[0;34m]\u001b[0m\u001b[0;34m\u001b[0m\u001b[0;34m\u001b[0m\u001b[0m\n\u001b[0m\u001b[1;32m    110\u001b[0m             \u001b[0mmsg\u001b[0m \u001b[0;34m=\u001b[0m \u001b[0mself\u001b[0m\u001b[0;34m.\u001b[0m\u001b[0mradial_records\u001b[0m\u001b[0;34m[\u001b[0m\u001b[0mmsg_number\u001b[0m\u001b[0;34m]\u001b[0m\u001b[0;34m\u001b[0m\u001b[0;34m\u001b[0m\u001b[0m\n\u001b[1;32m    111\u001b[0m \u001b[0;34m\u001b[0m\u001b[0m\n",
      "\u001b[0;31mIndexError\u001b[0m: index 0 is out of bounds for axis 0 with size 0"
     ]
    },
    {
     "data": {
      "text/plain": [
       "<Figure size 1080x504 with 0 Axes>"
      ]
     },
     "metadata": {},
     "output_type": "display_data"
    }
   ],
   "source": [
    "##Example 1: Plot a single data file\n",
    "\n",
    "#create figure\n",
    "fig = plt.figure(figsize=[15, 7], facecolor='w')\n",
    "\n",
    "#select one data file to plot\n",
    "test_data_ffn = data_ffn_list[23]\n",
    "#plot data file\n",
    "plot_data(test_data_ffn, None)\n"
   ]
  },
  {
   "cell_type": "code",
   "execution_count": null,
   "metadata": {},
   "outputs": [],
   "source": [
    "#Example 2: Save plot images for all data files in the source folder\n",
    "\n",
    "for data_ffn in data_ffn_list:\n",
    "    #create image fn for output\n",
    "    data_fn = os.path.basename(data_ffn)\n",
    "    image_fn = image_path + '/' + data_fn[15:27] + '.png'\n",
    "    #create figure\n",
    "    fig = plt.figure(figsize=[15, 7], facecolor='w')\n",
    "    #plot and save\n",
    "    plot_data(data_ffn, image_fn)\n",
    "    #close figure\n",
    "    plt.close()\n",
    "    #update\n",
    "    print('finished:', data_ffn)\n"
   ]
  },
  {
   "cell_type": "code",
   "execution_count": 13,
   "metadata": {},
   "outputs": [
    {
     "name": "stdout",
     "output_type": "stream",
     "text": [
      "added: images/201904272000.png\n",
      "added: images/201904272005.png\n",
      "added: images/201904272010.png\n",
      "added: images/201904272016.png\n",
      "added: images/201904272021.png\n",
      "added: images/201904272027.png\n",
      "added: images/201904272032.png\n",
      "added: images/201904272038.png\n",
      "added: images/201904272043.png\n",
      "added: images/201904272049.png\n",
      "added: images/201904272054.png\n",
      "added: images/201904272100.png\n",
      "added: images/201904272105.png\n",
      "added: images/201904272111.png\n",
      "added: images/201904272116.png\n",
      "added: images/201904272121.png\n",
      "added: images/201904272127.png\n",
      "added: images/201904272132.png\n",
      "added: images/201904272138.png\n",
      "added: images/201904272143.png\n"
     ]
    }
   ],
   "source": [
    "#make gif animation!\n",
    "\n",
    "import imageio\n",
    "\n",
    "image_list = sorted(glob.glob('images/*.png'))\n",
    "\n",
    "with imageio.get_writer('movies/demo.gif', mode='I',  duration=0.5) as writer:\n",
    "    for filename in image_list:\n",
    "        image = imageio.imread(filename)\n",
    "        writer.append_data(image)\n",
    "        print('added:', filename)\n"
   ]
  },
  {
   "cell_type": "markdown",
   "metadata": {},
   "source": [
    "![football](movies/demo.gif \"animation\")"
   ]
  },
  {
   "cell_type": "code",
   "execution_count": null,
   "metadata": {},
   "outputs": [],
   "source": []
  }
 ],
 "metadata": {
  "kernelspec": {
   "display_name": "Python [conda env:radar-dev] *",
   "language": "python",
   "name": "conda-env-radar-dev-py"
  },
  "language_info": {
   "codemirror_mode": {
    "name": "ipython",
    "version": 3
   },
   "file_extension": ".py",
   "mimetype": "text/x-python",
   "name": "python",
   "nbconvert_exporter": "python",
   "pygments_lexer": "ipython3",
   "version": "3.6.7"
  }
 },
 "nbformat": 4,
 "nbformat_minor": 4
}
